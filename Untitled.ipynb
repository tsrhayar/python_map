{
 "cells": [
  {
   "cell_type": "code",
   "execution_count": 59,
   "id": "900d7cb7",
   "metadata": {},
   "outputs": [],
   "source": [
    "import folium\n",
    "from geopy.geocoders import Nominatim\n"
   ]
  },
  {
   "cell_type": "code",
   "execution_count": 60,
   "id": "29cf48b0",
   "metadata": {},
   "outputs": [],
   "source": [
    "# Coordonnées du centre de la carte (par exemple, Paris, France)\n",
    "latitude, longitude = 32.24634, -8.52941\n",
    "\n",
    "# Créez la carte\n",
    "map = folium.Map(location=[latitude, longitude], zoom_start=12)\n"
   ]
  },
  {
   "cell_type": "code",
   "execution_count": 61,
   "id": "f5736858",
   "metadata": {},
   "outputs": [
    {
     "data": {
      "text/plain": [
       "[Location(Café مقهى آدم, P4025, دوار الحاجة, El Youssoufia ⵍⵢⵓⵙⵓⴼⵉⵢⴰ اليوسفية, Rabat ⵔⴱⴰⵟ الرباط, باشوية الرباط, عمالة الرباط, Rabat-Salé-Kénitra ⵔⴱⴰⵟ-ⵙⵍⴰ-ⵇⵏⵉⵟⵔⴰ الرباط-سلا-القنيطرة, 10103, Maroc / ⵍⵎⵖⵔⵉⴱ / المغرب, (33.9906928, -6.8154751, 0.0))]"
      ]
     },
     "execution_count": 61,
     "metadata": {},
     "output_type": "execute_result"
    }
   ],
   "source": [
    "# Exemple d'adresses à géocoder\n",
    "addresses = [\n",
    "    \"Cafe, Youssoufia, Maroc\",\n",
    "]\n",
    "geolocator = Nominatim(user_agent=\"myGeocoder\")\n",
    "\n",
    "locations = [geolocator.geocode(address) for address in addresses]\n",
    "locations"
   ]
  },
  {
   "cell_type": "code",
   "execution_count": 62,
   "id": "24e07d80",
   "metadata": {},
   "outputs": [],
   "source": [
    "for location, address in zip(locations, addresses):\n",
    "    if location:\n",
    "        # Récupérez les coordonnées de la géolocalisation\n",
    "        lat, lon = location.latitude, location.longitude\n",
    "\n",
    "        # Ajoutez un marqueur avec une étiquette sur la carte\n",
    "        folium.Marker(\n",
    "            location=[lat, lon],\n",
    "            popup=address,\n",
    "            icon=folium.Icon(color=\"blue\", icon=\"info-sign\"),\n",
    "        ).add_to(map)\n",
    "    else:\n",
    "        print(f\"Adresse introuvable: {address}\")\n"
   ]
  },
  {
   "cell_type": "code",
   "execution_count": 63,
   "id": "68cf1a95",
   "metadata": {},
   "outputs": [],
   "source": [
    "map.save(\"map_with_labels.html\")\n"
   ]
  },
  {
   "cell_type": "code",
   "execution_count": null,
   "id": "6ce36bbe",
   "metadata": {},
   "outputs": [],
   "source": []
  }
 ],
 "metadata": {
  "kernelspec": {
   "display_name": "Python 3 (ipykernel)",
   "language": "python",
   "name": "python3"
  },
  "language_info": {
   "codemirror_mode": {
    "name": "ipython",
    "version": 3
   },
   "file_extension": ".py",
   "mimetype": "text/x-python",
   "name": "python",
   "nbconvert_exporter": "python",
   "pygments_lexer": "ipython3",
   "version": "3.10.11"
  }
 },
 "nbformat": 4,
 "nbformat_minor": 5
}
