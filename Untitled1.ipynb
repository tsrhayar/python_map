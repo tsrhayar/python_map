{
 "cells": [
  {
   "cell_type": "code",
   "execution_count": 51,
   "id": "a9955afc",
   "metadata": {},
   "outputs": [],
   "source": [
    "import folium"
   ]
  },
  {
   "cell_type": "code",
   "execution_count": 52,
   "id": "602c312f",
   "metadata": {},
   "outputs": [],
   "source": [
    "LATITUDE_CENTER, LONGITUDE_CENTER = 32.248244954481564, -8.521863276710965\n",
    "\n",
    "addresses_info = [\n",
    "    {\n",
    "        \"address\": \"Youcode\",\n",
    "        \"latitude\": 32.248244954481564,\n",
    "        \"longitude\": -8.521863276710965,\n",
    "        \"additional_info\": \"Une école de coding\",\n",
    "    },\n",
    "    {\n",
    "        \"address\": \"Café Monté carlo\",\n",
    "        \"latitude\": 32.24891721344002,\n",
    "        \"longitude\":  -8.524324146583343,\n",
    "        \"additional_info\": \"\",\n",
    "    },\n",
    "]\n"
   ]
  },
  {
   "cell_type": "code",
   "execution_count": 53,
   "id": "3deb2aa6",
   "metadata": {},
   "outputs": [],
   "source": [
    "latitude_center, longitude_center = LATITUDE_CENTER, LONGITUDE_CENTER\n",
    "\n",
    "map = folium.Map(location=[latitude_center, longitude_center], zoom_start=15)\n",
    "\n",
    "for info in addresses_info:\n",
    "    address = info[\"address\"]\n",
    "    latitude = info[\"latitude\"]\n",
    "    longitude = info[\"longitude\"]\n",
    "    additional_info = info[\"additional_info\"]\n",
    "\n",
    "    folium.Marker(\n",
    "        location=[latitude, longitude],\n",
    "        popup=f\"{address}\\n{additional_info}\",\n",
    "        icon=folium.Icon(color=\"green\", icon=\"home\"),\n",
    "    ).add_to(map)\n"
   ]
  },
  {
   "cell_type": "code",
   "execution_count": 58,
   "id": "0d0905c1",
   "metadata": {},
   "outputs": [],
   "source": [
    "map.save(\"map.html\")"
   ]
  },
  {
   "cell_type": "code",
   "execution_count": null,
   "id": "2d44bda5",
   "metadata": {},
   "outputs": [],
   "source": []
  }
 ],
 "metadata": {
  "kernelspec": {
   "display_name": "Python 3 (ipykernel)",
   "language": "python",
   "name": "python3"
  },
  "language_info": {
   "codemirror_mode": {
    "name": "ipython",
    "version": 3
   },
   "file_extension": ".py",
   "mimetype": "text/x-python",
   "name": "python",
   "nbconvert_exporter": "python",
   "pygments_lexer": "ipython3",
   "version": "3.10.11"
  }
 },
 "nbformat": 4,
 "nbformat_minor": 5
}
